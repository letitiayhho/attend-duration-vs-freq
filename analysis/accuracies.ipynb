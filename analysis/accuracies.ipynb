{
 "cells": [
  {
   "cell_type": "code",
   "execution_count": 1,
   "id": "407acc99",
   "metadata": {},
   "outputs": [],
   "source": [
    "import os\n",
    "import os.path as op\n",
    "import numpy as np\n",
    "import re\n",
    "import itertools\n",
    "import matplotlib.pyplot as plt\n",
    "import pandas as pd\n",
    "import seaborn as sns\n",
    "from collections import Counter\n",
    "from pathlib import Path\n",
    "from scipy.stats import ttest_1samp"
   ]
  },
  {
   "cell_type": "markdown",
   "id": "482ddf1e",
   "metadata": {},
   "source": [
    "### Inspect column names"
   ]
  },
  {
   "cell_type": "markdown",
   "id": "cff90e06",
   "metadata": {},
   "source": [
    "To fix some errors I made in writing the log files"
   ]
  },
  {
   "cell_type": "code",
   "execution_count": 2,
   "id": "dd361343",
   "metadata": {},
   "outputs": [],
   "source": [
    "root = Path('../data/logs/')\n",
    "headers = {}\n",
    "for file in root.rglob(\"*.log\"):\n",
    "    sub = int(re.findall('sub-(\\d{1,2})', file.name)[0])\n",
    "    sub_df = pd.read_csv(file)\n",
    "    col_names = sub_df.columns.values.tolist()\n",
    "    headers[sub] = col_names\n",
    "\n",
    "headers = pd.DataFrame.from_dict(headers, orient='index')\n",
    "headers = headers.sort_index()"
   ]
  },
  {
   "cell_type": "code",
   "execution_count": 3,
   "id": "5d3b78f4",
   "metadata": {},
   "outputs": [
    {
     "data": {
      "text/html": [
       "<div>\n",
       "<style scoped>\n",
       "    .dataframe tbody tr th:only-of-type {\n",
       "        vertical-align: middle;\n",
       "    }\n",
       "\n",
       "    .dataframe tbody tr th {\n",
       "        vertical-align: top;\n",
       "    }\n",
       "\n",
       "    .dataframe thead th {\n",
       "        text-align: right;\n",
       "    }\n",
       "</style>\n",
       "<table border=\"1\" class=\"dataframe\">\n",
       "  <thead>\n",
       "    <tr style=\"text-align: right;\">\n",
       "      <th></th>\n",
       "      <th>0</th>\n",
       "      <th>1</th>\n",
       "      <th>2</th>\n",
       "      <th>3</th>\n",
       "      <th>4</th>\n",
       "      <th>5</th>\n",
       "      <th>6</th>\n",
       "      <th>7</th>\n",
       "      <th>8</th>\n",
       "      <th>9</th>\n",
       "      <th>10</th>\n",
       "      <th>11</th>\n",
       "      <th>12</th>\n",
       "      <th>13</th>\n",
       "    </tr>\n",
       "  </thead>\n",
       "  <tbody>\n",
       "    <tr>\n",
       "      <th>1</th>\n",
       "      <td>seed</td>\n",
       "      <td>sub_num</td>\n",
       "      <td>block_num</td>\n",
       "      <td>seq_num</td>\n",
       "      <td>target</td>\n",
       "      <td>tone_num</td>\n",
       "      <td>freq</td>\n",
       "      <td>mark</td>\n",
       "      <td>is_target</td>\n",
       "      <td>n_targets</td>\n",
       "      <td>response</td>\n",
       "      <td>correct</td>\n",
       "      <td>score</td>\n",
       "      <td>None</td>\n",
       "    </tr>\n",
       "    <tr>\n",
       "      <th>2</th>\n",
       "      <td>seed</td>\n",
       "      <td>sub_num</td>\n",
       "      <td>block_num</td>\n",
       "      <td>seq_num</td>\n",
       "      <td>target</td>\n",
       "      <td>tone_num</td>\n",
       "      <td>freq</td>\n",
       "      <td>mark</td>\n",
       "      <td>is_target</td>\n",
       "      <td>n_targets</td>\n",
       "      <td>response</td>\n",
       "      <td>correct</td>\n",
       "      <td>score</td>\n",
       "      <td>None</td>\n",
       "    </tr>\n",
       "    <tr>\n",
       "      <th>3</th>\n",
       "      <td>seed</td>\n",
       "      <td>sub_num</td>\n",
       "      <td>block_num</td>\n",
       "      <td>seq_num</td>\n",
       "      <td>target</td>\n",
       "      <td>tone_num</td>\n",
       "      <td>freq</td>\n",
       "      <td>mark</td>\n",
       "      <td>is_target</td>\n",
       "      <td>n_targets</td>\n",
       "      <td>response</td>\n",
       "      <td>correct</td>\n",
       "      <td>score</td>\n",
       "      <td>None</td>\n",
       "    </tr>\n",
       "    <tr>\n",
       "      <th>4</th>\n",
       "      <td>seed</td>\n",
       "      <td>sub_num</td>\n",
       "      <td>block_num</td>\n",
       "      <td>seq_num</td>\n",
       "      <td>target</td>\n",
       "      <td>tone_num</td>\n",
       "      <td>freq</td>\n",
       "      <td>mark</td>\n",
       "      <td>is_target</td>\n",
       "      <td>n_targets</td>\n",
       "      <td>response</td>\n",
       "      <td>correct</td>\n",
       "      <td>score</td>\n",
       "      <td>None</td>\n",
       "    </tr>\n",
       "    <tr>\n",
       "      <th>5</th>\n",
       "      <td>seed</td>\n",
       "      <td>sub_num</td>\n",
       "      <td>block_num</td>\n",
       "      <td>seq_num</td>\n",
       "      <td>target</td>\n",
       "      <td>tone_num</td>\n",
       "      <td>freq</td>\n",
       "      <td>mark</td>\n",
       "      <td>is_target</td>\n",
       "      <td>n_targets</td>\n",
       "      <td>response</td>\n",
       "      <td>correct</td>\n",
       "      <td>score</td>\n",
       "      <td>None</td>\n",
       "    </tr>\n",
       "  </tbody>\n",
       "</table>\n",
       "</div>"
      ],
      "text/plain": [
       "     0        1          2        3       4         5     6     7          8   \\\n",
       "1  seed  sub_num  block_num  seq_num  target  tone_num  freq  mark  is_target   \n",
       "2  seed  sub_num  block_num  seq_num  target  tone_num  freq  mark  is_target   \n",
       "3  seed  sub_num  block_num  seq_num  target  tone_num  freq  mark  is_target   \n",
       "4  seed  sub_num  block_num  seq_num  target  tone_num  freq  mark  is_target   \n",
       "5  seed  sub_num  block_num  seq_num  target  tone_num  freq  mark  is_target   \n",
       "\n",
       "          9         10       11     12    13  \n",
       "1  n_targets  response  correct  score  None  \n",
       "2  n_targets  response  correct  score  None  \n",
       "3  n_targets  response  correct  score  None  \n",
       "4  n_targets  response  correct  score  None  \n",
       "5  n_targets  response  correct  score  None  "
      ]
     },
     "execution_count": 3,
     "metadata": {},
     "output_type": "execute_result"
    }
   ],
   "source": [
    "headers.head()\n",
    "\n",
    "# subs 1-8 have the right headings, just didn't record n_target_plays\n",
    "# subs 9-12 have the right headings\n",
    "# subs 13-31 have tone_num and n_target_plays in the wrong order\n",
    "# subs 31- have the right headings"
   ]
  },
  {
   "cell_type": "markdown",
   "id": "4c72766c",
   "metadata": {},
   "source": [
    "### Load data"
   ]
  },
  {
   "cell_type": "code",
   "execution_count": 31,
   "id": "1f0a3118",
   "metadata": {},
   "outputs": [
    {
     "data": {
      "text/html": [
       "<div>\n",
       "<style scoped>\n",
       "    .dataframe tbody tr th:only-of-type {\n",
       "        vertical-align: middle;\n",
       "    }\n",
       "\n",
       "    .dataframe tbody tr th {\n",
       "        vertical-align: top;\n",
       "    }\n",
       "\n",
       "    .dataframe thead th {\n",
       "        text-align: right;\n",
       "    }\n",
       "</style>\n",
       "<table border=\"1\" class=\"dataframe\">\n",
       "  <thead>\n",
       "    <tr style=\"text-align: right;\">\n",
       "      <th></th>\n",
       "      <th>seed</th>\n",
       "      <th>sub_num</th>\n",
       "      <th>block_num</th>\n",
       "      <th>seq_num</th>\n",
       "      <th>target</th>\n",
       "      <th>tone_num</th>\n",
       "      <th>n_target_plays</th>\n",
       "      <th>freq</th>\n",
       "      <th>mark</th>\n",
       "      <th>is_target</th>\n",
       "      <th>n_targets</th>\n",
       "      <th>response</th>\n",
       "      <th>correct</th>\n",
       "      <th>score</th>\n",
       "      <th>n_target_plays.1</th>\n",
       "    </tr>\n",
       "  </thead>\n",
       "  <tbody>\n",
       "    <tr>\n",
       "      <th>0</th>\n",
       "      <td>30000</td>\n",
       "      <td>30</td>\n",
       "      <td>0</td>\n",
       "      <td>1</td>\n",
       "      <td>130</td>\n",
       "      <td>3.0</td>\n",
       "      <td>1.0</td>\n",
       "      <td>280</td>\n",
       "      <td>13</td>\n",
       "      <td>0</td>\n",
       "      <td>14</td>\n",
       "      <td>15</td>\n",
       "      <td>1</td>\n",
       "      <td>1.0</td>\n",
       "      <td>NaN</td>\n",
       "    </tr>\n",
       "    <tr>\n",
       "      <th>1</th>\n",
       "      <td>30000</td>\n",
       "      <td>30</td>\n",
       "      <td>0</td>\n",
       "      <td>1</td>\n",
       "      <td>130</td>\n",
       "      <td>3.0</td>\n",
       "      <td>2.0</td>\n",
       "      <td>130</td>\n",
       "      <td>11</td>\n",
       "      <td>1</td>\n",
       "      <td>14</td>\n",
       "      <td>15</td>\n",
       "      <td>1</td>\n",
       "      <td>1.0</td>\n",
       "      <td>NaN</td>\n",
       "    </tr>\n",
       "    <tr>\n",
       "      <th>2</th>\n",
       "      <td>30000</td>\n",
       "      <td>30</td>\n",
       "      <td>0</td>\n",
       "      <td>1</td>\n",
       "      <td>130</td>\n",
       "      <td>3.0</td>\n",
       "      <td>3.0</td>\n",
       "      <td>130</td>\n",
       "      <td>11</td>\n",
       "      <td>1</td>\n",
       "      <td>14</td>\n",
       "      <td>15</td>\n",
       "      <td>1</td>\n",
       "      <td>1.0</td>\n",
       "      <td>NaN</td>\n",
       "    </tr>\n",
       "    <tr>\n",
       "      <th>3</th>\n",
       "      <td>30000</td>\n",
       "      <td>30</td>\n",
       "      <td>0</td>\n",
       "      <td>1</td>\n",
       "      <td>130</td>\n",
       "      <td>3.0</td>\n",
       "      <td>4.0</td>\n",
       "      <td>200</td>\n",
       "      <td>12</td>\n",
       "      <td>0</td>\n",
       "      <td>14</td>\n",
       "      <td>15</td>\n",
       "      <td>1</td>\n",
       "      <td>1.0</td>\n",
       "      <td>NaN</td>\n",
       "    </tr>\n",
       "    <tr>\n",
       "      <th>4</th>\n",
       "      <td>30000</td>\n",
       "      <td>30</td>\n",
       "      <td>0</td>\n",
       "      <td>1</td>\n",
       "      <td>130</td>\n",
       "      <td>3.0</td>\n",
       "      <td>5.0</td>\n",
       "      <td>130</td>\n",
       "      <td>11</td>\n",
       "      <td>1</td>\n",
       "      <td>14</td>\n",
       "      <td>15</td>\n",
       "      <td>1</td>\n",
       "      <td>1.0</td>\n",
       "      <td>NaN</td>\n",
       "    </tr>\n",
       "    <tr>\n",
       "      <th>...</th>\n",
       "      <td>...</td>\n",
       "      <td>...</td>\n",
       "      <td>...</td>\n",
       "      <td>...</td>\n",
       "      <td>...</td>\n",
       "      <td>...</td>\n",
       "      <td>...</td>\n",
       "      <td>...</td>\n",
       "      <td>...</td>\n",
       "      <td>...</td>\n",
       "      <td>...</td>\n",
       "      <td>...</td>\n",
       "      <td>...</td>\n",
       "      <td>...</td>\n",
       "      <td>...</td>\n",
       "    </tr>\n",
       "    <tr>\n",
       "      <th>673</th>\n",
       "      <td>5040</td>\n",
       "      <td>5</td>\n",
       "      <td>4</td>\n",
       "      <td>19</td>\n",
       "      <td>200</td>\n",
       "      <td>26.0</td>\n",
       "      <td>NaN</td>\n",
       "      <td>280</td>\n",
       "      <td>23</td>\n",
       "      <td>0</td>\n",
       "      <td>9</td>\n",
       "      <td>9</td>\n",
       "      <td>2</td>\n",
       "      <td>18.0</td>\n",
       "      <td>NaN</td>\n",
       "    </tr>\n",
       "    <tr>\n",
       "      <th>674</th>\n",
       "      <td>5040</td>\n",
       "      <td>5</td>\n",
       "      <td>4</td>\n",
       "      <td>19</td>\n",
       "      <td>200</td>\n",
       "      <td>27.0</td>\n",
       "      <td>NaN</td>\n",
       "      <td>130</td>\n",
       "      <td>21</td>\n",
       "      <td>0</td>\n",
       "      <td>9</td>\n",
       "      <td>9</td>\n",
       "      <td>2</td>\n",
       "      <td>18.0</td>\n",
       "      <td>NaN</td>\n",
       "    </tr>\n",
       "    <tr>\n",
       "      <th>675</th>\n",
       "      <td>5040</td>\n",
       "      <td>5</td>\n",
       "      <td>4</td>\n",
       "      <td>19</td>\n",
       "      <td>200</td>\n",
       "      <td>28.0</td>\n",
       "      <td>NaN</td>\n",
       "      <td>130</td>\n",
       "      <td>21</td>\n",
       "      <td>0</td>\n",
       "      <td>9</td>\n",
       "      <td>9</td>\n",
       "      <td>2</td>\n",
       "      <td>18.0</td>\n",
       "      <td>NaN</td>\n",
       "    </tr>\n",
       "    <tr>\n",
       "      <th>676</th>\n",
       "      <td>5040</td>\n",
       "      <td>5</td>\n",
       "      <td>4</td>\n",
       "      <td>19</td>\n",
       "      <td>200</td>\n",
       "      <td>29.0</td>\n",
       "      <td>NaN</td>\n",
       "      <td>130</td>\n",
       "      <td>21</td>\n",
       "      <td>0</td>\n",
       "      <td>9</td>\n",
       "      <td>9</td>\n",
       "      <td>2</td>\n",
       "      <td>18.0</td>\n",
       "      <td>NaN</td>\n",
       "    </tr>\n",
       "    <tr>\n",
       "      <th>677</th>\n",
       "      <td>5040</td>\n",
       "      <td>5</td>\n",
       "      <td>4</td>\n",
       "      <td>19</td>\n",
       "      <td>200</td>\n",
       "      <td>30.0</td>\n",
       "      <td>NaN</td>\n",
       "      <td>280</td>\n",
       "      <td>23</td>\n",
       "      <td>0</td>\n",
       "      <td>9</td>\n",
       "      <td>9</td>\n",
       "      <td>2</td>\n",
       "      <td>18.0</td>\n",
       "      <td>NaN</td>\n",
       "    </tr>\n",
       "  </tbody>\n",
       "</table>\n",
       "<p>118056 rows × 15 columns</p>\n",
       "</div>"
      ],
      "text/plain": [
       "      seed sub_num block_num seq_num target  tone_num  n_target_plays freq  \\\n",
       "0    30000      30         0       1    130       3.0             1.0  280   \n",
       "1    30000      30         0       1    130       3.0             2.0  130   \n",
       "2    30000      30         0       1    130       3.0             3.0  130   \n",
       "3    30000      30         0       1    130       3.0             4.0  200   \n",
       "4    30000      30         0       1    130       3.0             5.0  130   \n",
       "..     ...     ...       ...     ...    ...       ...             ...  ...   \n",
       "673   5040       5         4      19    200      26.0             NaN  280   \n",
       "674   5040       5         4      19    200      27.0             NaN  130   \n",
       "675   5040       5         4      19    200      28.0             NaN  130   \n",
       "676   5040       5         4      19    200      29.0             NaN  130   \n",
       "677   5040       5         4      19    200      30.0             NaN  280   \n",
       "\n",
       "    mark is_target n_targets response correct  score  n_target_plays.1  \n",
       "0     13         0        14       15       1    1.0               NaN  \n",
       "1     11         1        14       15       1    1.0               NaN  \n",
       "2     11         1        14       15       1    1.0               NaN  \n",
       "3     12         0        14       15       1    1.0               NaN  \n",
       "4     11         1        14       15       1    1.0               NaN  \n",
       "..   ...       ...       ...      ...     ...    ...               ...  \n",
       "673   23         0         9        9       2   18.0               NaN  \n",
       "674   21         0         9        9       2   18.0               NaN  \n",
       "675   21         0         9        9       2   18.0               NaN  \n",
       "676   21         0         9        9       2   18.0               NaN  \n",
       "677   23         0         9        9       2   18.0               NaN  \n",
       "\n",
       "[118056 rows x 15 columns]"
      ]
     },
     "execution_count": 31,
     "metadata": {},
     "output_type": "execute_result"
    }
   ],
   "source": [
    "root = Path('../data/logs/')\n",
    "df = pd.DataFrame()\n",
    "for file in root.rglob(\"*.log\"):\n",
    "    sub = int(re.findall('sub-(\\d{1,2})', file.name)[0])\n",
    "    sub_df = pd.read_csv(file)\n",
    "    df = pd.concat([df, sub_df])\n",
    "    if 13 <= sub <= 31:\n",
    "        df = df.rename({'tone_num': 'n_target_plays', 'n_target_plays': 'tone_num'}, axis='columns')\n",
    "df.to_csv('../data/behavioral_data.csv')\n",
    "df"
   ]
  },
  {
   "cell_type": "markdown",
   "id": "289fac7f",
   "metadata": {},
   "source": [
    "## Accuracies"
   ]
  },
  {
   "cell_type": "code",
   "execution_count": 74,
   "id": "a7aa772b",
   "metadata": {},
   "outputs": [
    {
     "data": {
      "text/html": [
       "<div>\n",
       "<style scoped>\n",
       "    .dataframe tbody tr th:only-of-type {\n",
       "        vertical-align: middle;\n",
       "    }\n",
       "\n",
       "    .dataframe tbody tr th {\n",
       "        vertical-align: top;\n",
       "    }\n",
       "\n",
       "    .dataframe thead th {\n",
       "        text-align: right;\n",
       "    }\n",
       "</style>\n",
       "<table border=\"1\" class=\"dataframe\">\n",
       "  <thead>\n",
       "    <tr style=\"text-align: right;\">\n",
       "      <th></th>\n",
       "      <th>sub_num</th>\n",
       "      <th>block_num</th>\n",
       "      <th>target</th>\n",
       "      <th>n_target_plays</th>\n",
       "      <th>n_targets</th>\n",
       "      <th>response</th>\n",
       "      <th>accuracy</th>\n",
       "    </tr>\n",
       "  </thead>\n",
       "  <tbody>\n",
       "    <tr>\n",
       "      <th>0</th>\n",
       "      <td>30</td>\n",
       "      <td>3</td>\n",
       "      <td>200</td>\n",
       "      <td>4.0</td>\n",
       "      <td>14</td>\n",
       "      <td>14</td>\n",
       "      <td>1.0</td>\n",
       "    </tr>\n",
       "    <tr>\n",
       "      <th>42</th>\n",
       "      <td>30</td>\n",
       "      <td>3</td>\n",
       "      <td>200</td>\n",
       "      <td>2.0</td>\n",
       "      <td>11</td>\n",
       "      <td>10</td>\n",
       "      <td>0.909091</td>\n",
       "    </tr>\n",
       "    <tr>\n",
       "      <th>78</th>\n",
       "      <td>30</td>\n",
       "      <td>3</td>\n",
       "      <td>130</td>\n",
       "      <td>3.0</td>\n",
       "      <td>9</td>\n",
       "      <td>9</td>\n",
       "      <td>1.0</td>\n",
       "    </tr>\n",
       "    <tr>\n",
       "      <th>114</th>\n",
       "      <td>30</td>\n",
       "      <td>3</td>\n",
       "      <td>280</td>\n",
       "      <td>2.0</td>\n",
       "      <td>12</td>\n",
       "      <td>13</td>\n",
       "      <td>0.916667</td>\n",
       "    </tr>\n",
       "    <tr>\n",
       "      <th>156</th>\n",
       "      <td>30</td>\n",
       "      <td>3</td>\n",
       "      <td>280</td>\n",
       "      <td>3.0</td>\n",
       "      <td>11</td>\n",
       "      <td>11</td>\n",
       "      <td>1.0</td>\n",
       "    </tr>\n",
       "    <tr>\n",
       "      <th>...</th>\n",
       "      <td>...</td>\n",
       "      <td>...</td>\n",
       "      <td>...</td>\n",
       "      <td>...</td>\n",
       "      <td>...</td>\n",
       "      <td>...</td>\n",
       "      <td>...</td>\n",
       "    </tr>\n",
       "    <tr>\n",
       "      <th>510</th>\n",
       "      <td>5</td>\n",
       "      <td>4</td>\n",
       "      <td>130</td>\n",
       "      <td>NaN</td>\n",
       "      <td>9</td>\n",
       "      <td>9</td>\n",
       "      <td>1.0</td>\n",
       "    </tr>\n",
       "    <tr>\n",
       "      <th>546</th>\n",
       "      <td>5</td>\n",
       "      <td>4</td>\n",
       "      <td>200</td>\n",
       "      <td>NaN</td>\n",
       "      <td>9</td>\n",
       "      <td>9</td>\n",
       "      <td>1.0</td>\n",
       "    </tr>\n",
       "    <tr>\n",
       "      <th>576</th>\n",
       "      <td>5</td>\n",
       "      <td>4</td>\n",
       "      <td>280</td>\n",
       "      <td>NaN</td>\n",
       "      <td>11</td>\n",
       "      <td>12</td>\n",
       "      <td>0.909091</td>\n",
       "    </tr>\n",
       "    <tr>\n",
       "      <th>606</th>\n",
       "      <td>5</td>\n",
       "      <td>4</td>\n",
       "      <td>200</td>\n",
       "      <td>NaN</td>\n",
       "      <td>12</td>\n",
       "      <td>14</td>\n",
       "      <td>0.833333</td>\n",
       "    </tr>\n",
       "    <tr>\n",
       "      <th>648</th>\n",
       "      <td>5</td>\n",
       "      <td>4</td>\n",
       "      <td>200</td>\n",
       "      <td>NaN</td>\n",
       "      <td>9</td>\n",
       "      <td>9</td>\n",
       "      <td>1.0</td>\n",
       "    </tr>\n",
       "  </tbody>\n",
       "</table>\n",
       "<p>6470 rows × 7 columns</p>\n",
       "</div>"
      ],
      "text/plain": [
       "    sub_num block_num target  n_target_plays n_targets response  accuracy\n",
       "0        30         3    200             4.0        14       14       1.0\n",
       "42       30         3    200             2.0        11       10  0.909091\n",
       "78       30         3    130             3.0         9        9       1.0\n",
       "114      30         3    280             2.0        12       13  0.916667\n",
       "156      30         3    280             3.0        11       11       1.0\n",
       "..      ...       ...    ...             ...       ...      ...       ...\n",
       "510       5         4    130             NaN         9        9       1.0\n",
       "546       5         4    200             NaN         9        9       1.0\n",
       "576       5         4    280             NaN        11       12  0.909091\n",
       "606       5         4    200             NaN        12       14  0.833333\n",
       "648       5         4    200             NaN         9        9       1.0\n",
       "\n",
       "[6470 rows x 7 columns]"
      ]
     },
     "execution_count": 74,
     "metadata": {},
     "output_type": "execute_result"
    }
   ],
   "source": [
    "df_scores = df[df.tone_num == 1] # Get only one trial per sequence to extract the score\n",
    "df_scores = df_scores[['sub_num', 'block_num', 'target', 'n_target_plays', 'n_targets', 'response']]\n",
    "df_scores['accuracy'] = 1 - abs(df_scores.n_targets - df_scores.response)/df_scores.n_targets\n",
    "df_scores = df_scores[df_scores.block_num != 0]\n",
    "df_scores.to_csv('../data/accuracy.csv')\n",
    "df_scores"
   ]
  },
  {
   "cell_type": "markdown",
   "id": "ed93c42a",
   "metadata": {},
   "source": [
    "#### Histogram of accuracies across subjects"
   ]
  },
  {
   "cell_type": "code",
   "execution_count": 22,
   "id": "dceff791",
   "metadata": {},
   "outputs": [
    {
     "data": {
      "text/plain": [
       "<AxesSubplot:xlabel='accuracy', ylabel='Count'>"
      ]
     },
     "execution_count": 22,
     "metadata": {},
     "output_type": "execute_result"
    },
    {
     "data": {
      "image/png": "[encoded data removed]",
      "text/plain": [
       "<Figure size 432x288 with 1 Axes>"
      ]
     },
     "metadata": {
      "needs_background": "light"
     },
     "output_type": "display_data"
    }
   ],
   "source": [
    "accuracies = df_scores.groupby('sub_num')['accuracy'].mean()\n",
    "sns.histplot(accuracies)"
   ]
  },
  {
   "cell_type": "markdown",
   "id": "eae57fb6",
   "metadata": {},
   "source": [
    "#### Boxplots of accuracy by target"
   ]
  },
  {
   "cell_type": "code",
   "execution_count": 30,
   "id": "9bda7df0",
   "metadata": {},
   "outputs": [
    {
     "data": {
      "text/plain": [
       "<AxesSubplot:xlabel='target', ylabel='accuracy'>"
      ]
     },
     "execution_count": 30,
     "metadata": {},
     "output_type": "execute_result"
    },
    {
     "data": {
      "image/png": "[encoded data removed]",
      "text/plain": [
       "<Figure size 432x288 with 1 Axes>"
      ]
     },
     "metadata": {
      "needs_background": "light"
     },
     "output_type": "display_data"
    }
   ],
   "source": [
    "accuracies = df_scores.groupby(['sub_num', 'target'])['accuracy'].mean()\n",
    "accuracies = pd.DataFrame(accuracies).reset_index()\n",
    "sns.boxplot(data = accuracies, x = 'target', y = 'accuracy')"
   ]
  },
  {
   "cell_type": "markdown",
   "id": "1f635edc",
   "metadata": {},
   "source": [
    "#### Boxplots of accuracy by block"
   ]
  },
  {
   "cell_type": "code",
   "execution_count": 73,
   "id": "d7db8026",
   "metadata": {},
   "outputs": [
    {
     "data": {
      "text/plain": [
       "<AxesSubplot:xlabel='block_num', ylabel='accuracy'>"
      ]
     },
     "execution_count": 73,
     "metadata": {},
     "output_type": "execute_result"
    },
    {
     "data": {
      "image/png": "[encoded data removed]",
      "text/plain": [
       "<Figure size 432x288 with 1 Axes>"
      ]
     },
     "metadata": {
      "needs_background": "light"
     },
     "output_type": "display_data"
    }
   ],
   "source": [
    "accuracies = df_scores.groupby(['sub_num', 'block_num'])['accuracy'].mean()\n",
    "accuracies = pd.DataFrame(accuracies).reset_index()\n",
    "accuracies = accuracies[accuracies.block_num < 6]\n",
    "sns.boxplot(data = accuracies, x = 'block_num', y = 'accuracy')"
   ]
  },
  {
   "cell_type": "markdown",
   "id": "f7535ad2",
   "metadata": {},
   "source": [
    "## Target plays"
   ]
  },
  {
   "cell_type": "code",
   "execution_count": 59,
   "id": "49a6d540",
   "metadata": {},
   "outputs": [],
   "source": [
    "# Clean data\n",
    "df_plays = df[df.tone_num != 1]\n",
    "df_plays = df_plays[['sub_num', 'block_num', 'target', 'n_target_plays']]\n",
    "df_plays = df_plays[df_plays.n_target_plays < 50]\n",
    "df_plays = df_plays[df_plays.block_num != 0]\n",
    "df_plays = df_plays[df_plays.block_num != 6]\n",
    "df_plays = df_plays.dropna()\n",
    "\n",
    "# Calculate means by sub\n",
    "df_plays = df_plays.groupby(['sub_num', 'target', 'block_num'])['n_target_plays'].mean()\n",
    "df_plays = pd.DataFrame(df_plays).reset_index()\n",
    "\n",
    "df_plays"
   ]
  },
  {
   "cell_type": "markdown",
   "id": "6465d18f",
   "metadata": {},
   "source": [
    "#### Histogram of target plays across subjects"
   ]
  },
  {
   "cell_type": "code",
   "execution_count": 62,
   "id": "dc46b6cc",
   "metadata": {},
   "outputs": [
    {
     "data": {
      "text/plain": [
       "<AxesSubplot:xlabel='n_target_plays', ylabel='Count'>"
      ]
     },
     "execution_count": 62,
     "metadata": {},
     "output_type": "execute_result"
    },
    {
     "data": {
      "image/png": "[encoded data removed]",
      "text/plain": [
       "<Figure size 432x288 with 1 Axes>"
      ]
     },
     "metadata": {
      "needs_background": "light"
     },
     "output_type": "display_data"
    }
   ],
   "source": [
    "df_plays_hist = df_plays.groupby(['sub_num'])['n_target_plays'].mean()\n",
    "sns.histplot(df_plays_hist)"
   ]
  },
  {
   "cell_type": "markdown",
   "id": "2e21ecee",
   "metadata": {},
   "source": [
    "#### Boxplots of target plays by target freq and block number"
   ]
  },
  {
   "cell_type": "code",
   "execution_count": 61,
   "id": "94c8cdb7",
   "metadata": {},
   "outputs": [
    {
     "data": {
      "text/plain": [
       "<AxesSubplot:xlabel='target', ylabel='n_target_plays'>"
      ]
     },
     "execution_count": 61,
     "metadata": {},
     "output_type": "execute_result"
    },
    {
     "data": {
      "image/png": "[encoded data removed]",
      "text/plain": [
       "<Figure size 432x288 with 1 Axes>"
      ]
     },
     "metadata": {
      "needs_background": "light"
     },
     "output_type": "display_data"
    }
   ],
   "source": [
    "sns.boxplot(data = df_plays, x = 'target', y = 'n_target_plays', hue = 'block_num')"
   ]
  }
 ],
 "metadata": {
  "kernelspec": {
   "display_name": "Python 3 (ipykernel)",
   "language": "python",
   "name": "python3"
  },
  "language_info": {
   "codemirror_mode": {
    "name": "ipython",
    "version": 3
   },
   "file_extension": ".py",
   "mimetype": "text/x-python",
   "name": "python",
   "nbconvert_exporter": "python",
   "pygments_lexer": "ipython3",
   "version": "3.10.4"
  }
 },
 "nbformat": 4,
 "nbformat_minor": 5
}
