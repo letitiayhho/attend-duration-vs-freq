{
 "cells": [
  {
   "cell_type": "code",
   "execution_count": 1,
   "id": "e28f72b2",
   "metadata": {},
   "outputs": [],
   "source": [
    "import os\n",
    "import sys\n",
    "import subprocess\n",
    "import argparse\n",
    "from bids import BIDSLayout\n",
    "from util.io.iter_BIDSPaths import *\n",
    "from util.io.bids import DataSink\n",
    "\n",
    "import gc\n",
    "import sys\n",
    "import mne\n",
    "import numpy as np\n",
    "import pandas as pd\n",
    "\n",
    "# import matplotlib.pyplot as plt\n",
    "# from typing import Tuple, Iterator\n",
    "# from mne_bids import BIDSPath, read_raw_bids, print_dir_tree\n",
    "# from mne.time_frequency import tfr_morlet\n",
    "# from bids import BIDSLayout\n",
    "\n",
    "# from sklearn.pipeline import make_pipeline\n",
    "# from sklearn import preprocessing\n",
    "# from sklearn.preprocessing import StandardScaler\n",
    "# from sklearn.linear_model import LogisticRegression\n",
    "# from mne.decoding import SlidingEstimator, cross_val_multiscore"
   ]
  },
  {
   "cell_type": "code",
   "execution_count": 6,
   "id": "0571675c",
   "metadata": {},
   "outputs": [],
   "source": [
    "BIDS_ROOT = '../data/bids'\n",
    "FIGS_ROOT = '../figs'\n",
    "STIM_FREQS = np.array([130, 200, 280])\n",
    "\n",
    "cond = '11'"
   ]
  },
  {
   "cell_type": "code",
   "execution_count": 3,
   "id": "e85a87c1",
   "metadata": {},
   "outputs": [
    {
     "name": "stdout",
     "output_type": "stream",
     "text": [
      "---------- Load data ----------\n",
      "Reading /project2/hcn1/pitch_tracking_attention/data/bids/derivatives/preprocessing/sub-12/sub-12_task-pitch_run-1_desc-clean_epo.fif.gz ...\n",
      "    Found the data of interest:\n",
      "        t =    -200.00 ...     350.00 ms\n",
      "        0 CTF compensation matrices available\n",
      "Reading /project2/hcn1/pitch_tracking_attention/data/bids/derivatives/preprocessing/sub-12/sub-12_task-pitch_run-1_desc-clean_epo.fif-1.gz ...\n",
      "    Found the data of interest:\n",
      "        t =    -200.00 ...     350.00 ms\n",
      "        0 CTF compensation matrices available\n",
      "0 bad epochs dropped\n",
      "0 bad epochs dropped\n",
      "Not setting metadata\n",
      "3350 matching events found\n",
      "No baseline correction applied\n",
      "0 projection items activated\n",
      "{'11': 10001, '12': 10002, '13': 10003, '21': 10004, '22': 10005, '23': 10006, '31': 10007, '32': 10008, '33': 10009}\n"
     ]
    }
   ],
   "source": [
    "print(\"---------- Load data ----------\")\n",
    "fpath = '/project2/hcn1/pitch_tracking_attention/data/bids/derivatives/preprocessing/sub-12/sub-12_task-pitch_run-1_desc-clean_epo.fif.gz'\n",
    "epochs = mne.read_epochs(fpath)\n",
    "print(epochs.event_id)"
   ]
  },
  {
   "cell_type": "code",
   "execution_count": 7,
   "id": "01734f85",
   "metadata": {},
   "outputs": [
    {
     "name": "stdout",
     "output_type": "stream",
     "text": [
      "---------- Subset epochs ----------\n",
      "{'11': 10001, '12': 10002, '13': 10003}\n",
      "<EpochsFIF |  824 events (all good), -0.2 - 0.35 sec, baseline -0.2 – 0 sec, ~1.05 GB, data loaded,\n",
      " '11': 271\n",
      " '12': 288\n",
      " '13': 265>\n"
     ]
    }
   ],
   "source": [
    "print(\"---------- Subset epochs ----------\")\n",
    "CONDS = {'1': ['11', '12', '13'], # subset the trials belonging to the given condition\n",
    "         '2': ['21', '22', '23'],\n",
    "         '3': ['31', '32', '33']}\n",
    "condition_epochs = epochs[CONDS[cond[0]]]\n",
    "events = condition_epochs.events\n",
    "print(condition_epochs.event_id)\n",
    "print(condition_epochs)"
   ]
  },
  {
   "cell_type": "code",
   "execution_count": 9,
   "id": "19f71250",
   "metadata": {},
   "outputs": [
    {
     "name": "stdout",
     "output_type": "stream",
     "text": [
      "0      10003\n",
      "1      10002\n",
      "2      10003\n",
      "3      10002\n",
      "4      10002\n",
      "       ...  \n",
      "819    10003\n",
      "820    10001\n",
      "821    10003\n",
      "822    10003\n",
      "823    10001\n",
      "Length: 824, dtype: int32\n",
      "0      0\n",
      "1      0\n",
      "2      0\n",
      "3      0\n",
      "4      0\n",
      "      ..\n",
      "819    0\n",
      "820    1\n",
      "821    0\n",
      "822    0\n",
      "823    1\n",
      "Length: 824, dtype: int32\n"
     ]
    }
   ],
   "source": [
    "labels = pd.Series(events[:, 2])\n",
    "EVENT_DICTS = {'11': {10001 : 1, 10002 : 0, 10003 : 0, 10004: 0, 10005: 0, 10006: 0, 10007: 0, 10008: 0, 10009: 0},\n",
    "               '12': {10001 : 0, 10002 : 1, 10003 : 0, 10004: 0, 10005: 0, 10006: 0, 10007: 0, 10008: 0, 10009: 0},\n",
    "               '13': {10001 : 0, 10002 : 0, 10003 : 1, 10004: 0, 10005: 0, 10006: 0, 10007: 0, 10008: 0, 10009: 0},\n",
    "               '21': {10001 : 0, 10002 : 0, 10003 : 0, 10004: 1, 10005: 0, 10006: 0, 10007: 0, 10008: 0, 10009: 0},\n",
    "               '22': {10001 : 0, 10002 : 0, 10003 : 0, 10004: 0, 10005: 1, 10006: 0, 10007: 0, 10008: 0, 10009: 0},\n",
    "               '23': {10001 : 0, 10002 : 0, 10003 : 0, 10004: 0, 10005: 0, 10006: 1, 10007: 0, 10008: 0, 10009: 0},\n",
    "               '31': {10001 : 0, 10002 : 0, 10003 : 0, 10004: 0, 10005: 0, 10006: 0, 10007: 1, 10008: 0, 10009: 0},\n",
    "               '32': {10001 : 0, 10002 : 0, 10003 : 0, 10004: 0, 10005: 0, 10006: 0, 10007: 0, 10008: 1, 10009: 0},\n",
    "               '33': {10001 : 0, 10002 : 0, 10003 : 0, 10004: 0, 10005: 0, 10006: 0, 10007: 0, 10008: 0, 10009: 1},}\n",
    "y = labels.replace(EVENT_DICTS[cond])\n",
    "print(labels)\n",
    "print(y)"
   ]
  },
  {
   "cell_type": "code",
   "execution_count": null,
   "id": "0dc1cf7b",
   "metadata": {},
   "outputs": [
    {
     "name": "stdout",
     "output_type": "stream",
     "text": [
      "---------- Compute power ----------\n",
      "Not setting metadata\n"
     ]
    }
   ],
   "source": [
    "print(\"---------- Compute power ----------\")\n",
    "n_cycles = STIM_FREQS / 7 # different number of cycle per frequency\n",
    "                           # higher constant, fewer windows, maybe?\n",
    "power = tfr_morlet(epochs,\n",
    "                   freqs = STIM_FREQS,\n",
    "                   n_cycles = n_cycles,\n",
    "                   use_fft = True,\n",
    "                   return_itc = False,\n",
    "                   decim = 3,\n",
    "                   n_jobs = 1,\n",
    "                   average = False)\n",
    "power = np.log10(power)\n",
    "\n",
    "del epochs\n",
    "gc.collect()\n",
    "\n",
    "# Get some information\n",
    "n_epochs = np.shape(power)[0]\n",
    "n_channels = np.shape(power)[1]\n",
    "n_freqs = np.shape(power)[2]\n",
    "n_windows = np.shape(power)[3]\n",
    "print(\"n_windows: \" + str(n_windows))"
   ]
  },
  {
   "cell_type": "code",
   "execution_count": null,
   "id": "50d64736",
   "metadata": {},
   "outputs": [],
   "source": [
    "print(\"---------- Prepare for decoder ----------\")\n",
    "# Reshape for classifier\n",
    "X = power.reshape((n_epochs, n_freqs * n_channels, n_windows)) # Set order to preserve epoch order\n",
    "\n",
    "# Create array of condition labels\n",
    "labels = pd.Series(events[:, 2])\n",
    "y = labels.replace({10001 : 130, 10002 : 200, 10003 : 280})\n",
    "le = preprocessing.LabelEncoder()\n",
    "y = le.fit_transform(y)"
   ]
  },
  {
   "cell_type": "code",
   "execution_count": null,
   "id": "6e639d75",
   "metadata": {},
   "outputs": [],
   "source": [
    "print(\"---------- Decode ----------\")\n",
    "clf = make_pipeline(\n",
    "    StandardScaler(),\n",
    "    LogisticRegression(solver = 'liblinear')\n",
    ")\n",
    "\n",
    "print(\"Creating sliding estimators\")\n",
    "time_decod = SlidingEstimator(clf)\n",
    "\n",
    "print(\"Fit estimators\")\n",
    "scores = cross_val_multiscore(\n",
    "    time_decod,\n",
    "    X, # a trials x features x time array\n",
    "    y, # an (n_trials,) array of integer condition labels\n",
    "    cv = 5, # use stratified 5-fold cross-validation\n",
    "    n_jobs = -1, # use all available CPU cores\n",
    ")\n",
    "scores = np.mean(scores, axis = 0) # average across cv splits"
   ]
  },
  {
   "cell_type": "code",
   "execution_count": null,
   "id": "db7c8a04",
   "metadata": {},
   "outputs": [
    {
     "name": "stdout",
     "output_type": "stream",
     "text": [
      "---------- Load data ----------\n",
      "/project2/hcn1/pitch_tracking_attention/data/bids/derivatives/preprocessing/sub-12/sub-12_task-pitch_run-1_desc-clean_epo.fif.gz\n",
      "Reading /project2/hcn1/pitch_tracking_attention/data/bids/derivatives/preprocessing/sub-12/sub-12_task-pitch_run-1_desc-clean_epo.fif.gz ...\n",
      "    Found the data of interest:\n",
      "        t =    -200.00 ...     350.00 ms\n",
      "        0 CTF compensation matrices available\n",
      "Reading /project2/hcn1/pitch_tracking_attention/data/bids/derivatives/preprocessing/sub-12/sub-12_task-pitch_run-1_desc-clean_epo.fif-1.gz ...\n",
      "    Found the data of interest:\n",
      "        t =    -200.00 ...     350.00 ms\n",
      "        0 CTF compensation matrices available\n",
      "0 bad epochs dropped\n",
      "0 bad epochs dropped\n",
      "Not setting metadata\n",
      "3350 matching events found\n",
      "No baseline correction applied\n",
      "0 projection items activated\n",
      "---------- Compute power ----------\n",
      "Not setting metadata\n"
     ]
    }
   ],
   "source": [
    "print(\"---------- Save decoder scores ----------\")\n",
    "print('Saving scores to: ' + scores_fpath)\n",
    "np.save(scores_fpath, scores)"
   ]
  },
  {
   "cell_type": "code",
   "execution_count": null,
   "id": "5ae112a8",
   "metadata": {},
   "outputs": [],
   "source": [
    "print(\"---------- Plot ----------\")\n",
    "n_stimuli = 3\n",
    "fig, ax = plt.subplots()\n",
    "ax.plot(range(len(scores)), scores, label = 'score')\n",
    "ax.axhline(1/n_stimuli, color = 'k', linestyle = '--', label = 'chance')\n",
    "ax.set_xlabel('Times')\n",
    "ax.set_ylabel('Accuracy')  # Area Under the Curve\n",
    "ax.legend()\n",
    "ax.set_title('Sensor space decoding')\n",
    "\n",
    "# Save plot\n",
    "fig_fpath = FIGS_ROOT + '/subj-' + sub + '_' + 'task-pitch_' + 'run-' + run + '_log_reg_no_crop' + '.png'\n",
    "print('Saving figure to: ' + fig_fpath)\n",
    "plt.savefig(fig_fpath)"
   ]
  }
 ],
 "metadata": {
  "kernelspec": {
   "display_name": "Python 3 (ipykernel)",
   "language": "python",
   "name": "python3"
  },
  "language_info": {
   "codemirror_mode": {
    "name": "ipython",
    "version": 3
   },
   "file_extension": ".py",
   "mimetype": "text/x-python",
   "name": "python",
   "nbconvert_exporter": "python",
   "pygments_lexer": "ipython3",
   "version": "3.10.4"
  }
 },
 "nbformat": 4,
 "nbformat_minor": 5
}
